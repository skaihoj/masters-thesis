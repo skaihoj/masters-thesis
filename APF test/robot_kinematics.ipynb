{
 "cells": [
  {
   "cell_type": "code",
   "execution_count": 1,
   "metadata": {},
   "outputs": [
    {
     "ename": "ModuleNotFoundError",
     "evalue": "No module named 'casadi'",
     "output_type": "error",
     "traceback": [
      "\u001b[1;31m---------------------------------------------------------------------------\u001b[0m",
      "\u001b[1;31mModuleNotFoundError\u001b[0m                       Traceback (most recent call last)",
      "\u001b[1;32m<ipython-input-1-276e308bb96b>\u001b[0m in \u001b[0;36m<module>\u001b[1;34m\u001b[0m\n\u001b[1;32m----> 1\u001b[1;33m \u001b[1;32mimport\u001b[0m \u001b[0mcasadi\u001b[0m \u001b[1;32mas\u001b[0m \u001b[0mca\u001b[0m\u001b[1;33m\u001b[0m\u001b[1;33m\u001b[0m\u001b[0m\n\u001b[0m\u001b[0;32m      2\u001b[0m \u001b[1;32mimport\u001b[0m \u001b[0mcasadi\u001b[0m\u001b[1;33m.\u001b[0m\u001b[0mtools\u001b[0m\u001b[1;33m\u001b[0m\u001b[1;33m\u001b[0m\u001b[0m\n\u001b[0;32m      3\u001b[0m \u001b[1;33m\u001b[0m\u001b[0m\n\u001b[0;32m      4\u001b[0m \u001b[1;32mimport\u001b[0m \u001b[0mnumpy\u001b[0m \u001b[1;32mas\u001b[0m \u001b[0mnp\u001b[0m\u001b[1;33m\u001b[0m\u001b[1;33m\u001b[0m\u001b[0m\n\u001b[0;32m      5\u001b[0m \u001b[1;32mimport\u001b[0m \u001b[0mpandas\u001b[0m \u001b[1;32mas\u001b[0m \u001b[0mpd\u001b[0m\u001b[1;33m\u001b[0m\u001b[1;33m\u001b[0m\u001b[0m\n",
      "\u001b[1;31mModuleNotFoundError\u001b[0m: No module named 'casadi'"
     ]
    }
   ],
   "source": [
    "import casadi as ca\n",
    "import casadi.tools\n",
    "\n",
    "import numpy as np\n",
    "import pandas as pd\n",
    "\n",
    "import matplotlib.pyplot as plt"
   ]
  },
  {
   "cell_type": "markdown",
   "metadata": {},
   "source": [
    "# Robot kinematics\n",
    "\n",
    "States:\n",
    "\n",
    "- $\\vec{p} \\in R^2$ position of robot\n",
    "- $\\theta$ angle of robot [rad]\n",
    "\n",
    "Inputs:\n",
    "\n",
    "- $v$ translational velocity [m/s]\n",
    "- $\\omega$ rotational velocity [rad/s]\n",
    "\n",
    "State equations:\n",
    "\n",
    "$$\\dot{p} = v \\; [\\cos{\\theta}, \\sin{\\theta}]$$\n",
    "$$\\dot{\\theta} = \\omega$$"
   ]
  },
  {
   "cell_type": "code",
   "execution_count": 2,
   "metadata": {},
   "outputs": [
    {
     "data": {
      "text/plain": [
       "Function(f:(x[3],u[2])->(dx/dt[3]) MXFunction)"
      ]
     },
     "execution_count": 2,
     "metadata": {},
     "output_type": "execute_result"
    }
   ],
   "source": [
    "# State vector\n",
    "x = ca.tools.struct_symMX([ca.tools.entry(\"p\", shape=2), \"𝜃\"])\n",
    "\n",
    "# Input vector\n",
    "u = ca.tools.struct_symMX([\"v\", \"𝜔\"])\n",
    "\n",
    "# State equations\n",
    "dxdt = ca.tools.struct_MX(x)\n",
    "\n",
    "dp_x = u[\"v\"] * ca.cos(x[\"𝜃\"])\n",
    "dp_y = u[\"v\"] * ca.sin(x[\"𝜃\"])\n",
    "d𝜃 = u[\"𝜔\"]\n",
    "\n",
    "dxdt[\"p\"] = ca.vertcat(dp_x, dp_y)\n",
    "dxdt[\"𝜃\"] = d𝜃\n",
    "                               \n",
    "# ODE Right-hand side\n",
    "rhs = dxdt\n",
    "f = ca.Function('f', [x, u], [rhs], ['x', 'u'], ['dx/dt'])\n",
    "\n",
    "f"
   ]
  },
  {
   "cell_type": "markdown",
   "metadata": {},
   "source": [
    "# Integration\n",
    "\n",
    "Now we have dynamics described through CasADi symbols and functions.\n",
    "We can now introduce integrators for e.g. simulation.\n",
    "\n",
    "Here we introduce an integrator to simulate a single sample -- this is to formulate discrete dynamics from our continous dynamics.\n",
    "\n",
    "So we move from our formulation of:\n",
    "\n",
    "$$\n",
    "\\dot{x} = f(t,x,u)\n",
    "$$\n",
    "\n",
    "to:\n",
    "\n",
    "$$\n",
    "x[k+1] = F(x[k], u[k])\n",
    "$$\n",
    "\n",
    "where $F$ is the integration of $f$ over one sample period of $\\Delta t$.\n",
    "\n",
    "The integration can be done in many different ways; CasADi includes an interface to common integrators from *SUNDIALS*, but it is also easy (and sometimes very beneficial) to built e.g. a RK4 integrator, which minimizes additional overhead."
   ]
  },
  {
   "cell_type": "code",
   "execution_count": 3,
   "metadata": {},
   "outputs": [],
   "source": [
    "#dt = 1 # [s], 10 Hz sampling\n",
    "dt = ca.MX.sym(\"dt\")\n",
    "\n",
    "# RK4\n",
    "k1 = f(x, u)\n",
    "k2 = f(x + dt / 2.0 * k1, u)\n",
    "k3 = f(x + dt / 2.0 * k2, u)\n",
    "k4 = f(x + dt * k3, u)\n",
    "xf = x + dt / 6.0 * (k1 + 2 * k2 + 2 * k3 + k4)\n",
    "\n",
    "# Single step time propagation\n",
    "F_RK4 = ca.Function(\"F_RK4\", [x, u, dt], [xf], ['x[k]', 'u[k]', \"dt\"], ['x[k+1]'])"
   ]
  },
  {
   "cell_type": "code",
   "execution_count": 4,
   "metadata": {},
   "outputs": [
    {
     "data": {
      "text/plain": [
       "[<matplotlib.lines.Line2D at 0x7f0f19d02d50>]"
      ]
     },
     "execution_count": 4,
     "metadata": {},
     "output_type": "execute_result"
    },
    {
     "data": {
      "image/png": "[encoded data removed]",
      "text/plain": [
       "<Figure size 432x288 with 1 Axes>"
      ]
     },
     "metadata": {
      "needs_background": "light"
     },
     "output_type": "display_data"
    }
   ],
   "source": [
    "# IVP\n",
    "simulator = F_RK4.mapaccum(100)\n",
    "res = simulator([0, 0, 0], [1, 1.57], 0.1) # dt = 1\n",
    "\n",
    "sol_traj = pd.DataFrame(res.toarray().T, columns=['x', 'y', '𝜃'])\n",
    "\n",
    "plt.plot(sol_traj[\"x\"], sol_traj[\"y\"])"
   ]
  },
  {
   "cell_type": "markdown",
   "metadata": {},
   "source": [
    "# Optimal control formulations\n",
    "\n",
    "There are two ways of posing optimization problems in CasADi; either 'bare-metal' using pure CasADi symbolics or with a higher-level interface which significantly eases problem formulation + adds helpful debugging features."
   ]
  },
  {
   "cell_type": "code",
   "execution_count": 5,
   "metadata": {},
   "outputs": [],
   "source": [
    "opti = ca.Opti()\n",
    "\n",
    "# Optimization horizon\n",
    "N = 50\n",
    "\n",
    "# Decision variables for states and inputs\n",
    "X = opti.variable(x.size, N+1)\n",
    "\n",
    "p_x = X[0,:]\n",
    "p_y = X[1,:]\n",
    "𝜃 = X[2,:]\n",
    "\n",
    "U = opti.variable(u.size, N)\n",
    "\n",
    "v = U[0,:]\n",
    "𝜔 = U[1,:]\n",
    "\n",
    "# Initial state is a parameter\n",
    "x0 = opti.parameter(x.size)"
   ]
  },
  {
   "cell_type": "markdown",
   "metadata": {},
   "source": [
    "Now we have some decision variables; we then set up constraints.\n",
    "Formulating a multiple-shooting problem we pose some gap-closing constraints using our discrete dynamics."
   ]
  },
  {
   "cell_type": "code",
   "execution_count": 6,
   "metadata": {},
   "outputs": [],
   "source": [
    "# Gap-closing shooting constraints\n",
    "for k in range(N):\n",
    "   opti.subject_to(X[:,k+1] == F_RK4(X[:,k], U[:,k], 0.1))"
   ]
  },
  {
   "cell_type": "code",
   "execution_count": 7,
   "metadata": {},
   "outputs": [],
   "source": [
    "# Path constraints\n",
    "opti.subject_to(opti.bounded(-0.2, v, 0.2))\n",
    "opti.subject_to(opti.bounded(-2.5, 𝜔, 2.5))"
   ]
  },
  {
   "cell_type": "code",
   "execution_count": 8,
   "metadata": {},
   "outputs": [],
   "source": [
    "# Initial and terminal constraints\n",
    "opti.subject_to(X[:,0] == x0)\n",
    "#opti.subject_to(X[:,-1] == ca.vertcat(5,5,0))"
   ]
  },
  {
   "cell_type": "markdown",
   "metadata": {},
   "source": [
    "Formulate objective, here we minimize sum of squares of our input"
   ]
  },
  {
   "cell_type": "code",
   "execution_count": 10,
   "metadata": {},
   "outputs": [],
   "source": [
    "e_x = (0.8 - p_x)\n",
    "e_y = (0.4 - p_y)\n",
    "\n",
    "s = opti.variable(N)\n",
    "\n",
    "d = ca.sqrt((0.5 - p_x)**2 + (0.15 - p_y)**2)\n",
    "\n",
    "#potential = ca.sqrt(1 / (1 + ca.exp(5 * (d - 0.2))))\n",
    "\n",
    "opti.subject_to(d[0:-1].T >= s + 0.2)\n",
    "\n",
    "opti.minimize(3*ca.sumsqr(e_x) + 3*ca.sumsqr(e_y) + 0.01*ca.sumsqr(U) + 1000*ca.sumsqr(s))"
   ]
  },
  {
   "cell_type": "markdown",
   "metadata": {},
   "source": [
    "Then, we setup solver specifics -- here we use *IPOPT*."
   ]
  },
  {
   "cell_type": "code",
   "execution_count": 22,
   "metadata": {},
   "outputs": [],
   "source": [
    "opti.solver('ipopt', {'ipopt': {'print_level': 0}})\n",
    "\n",
    "\n",
    "# We need to use q SQP method for code-generation to work\n",
    "#options = {'qpsol': 'qrqp', 'expand': False}\n",
    "#options['qpsol_options'] = {'print_iter': False, \"print_header\": False, \"error_on_fail\": False}\n",
    "#options['print_iteration'] = False\n",
    "#options['print_status'] = False\n",
    "#opti.solver('sqpmethod', options)"
   ]
  },
  {
   "cell_type": "markdown",
   "metadata": {},
   "source": [
    "And we can now set up initial conditions and solve our problem:"
   ]
  },
  {
   "cell_type": "code",
   "execution_count": 23,
   "metadata": {
    "scrolled": true
   },
   "outputs": [
    {
     "name": "stdout",
     "output_type": "stream",
     "text": [
      "\n",
      "******************************************************************************\n",
      "This program contains Ipopt, a library for large-scale nonlinear optimization.\n",
      " Ipopt is released as open source code under the Eclipse Public License (EPL).\n",
      "         For more information visit http://projects.coin-or.org/Ipopt\n",
      "******************************************************************************\n",
      "\n",
      "      solver  :   t_proc      (avg)   t_wall      (avg)    n_eval\n",
      "       nlp_f  |  98.00us (  3.77us) 101.19us (  3.89us)        26\n",
      "       nlp_g  |   4.17ms (160.42us)   4.17ms (160.40us)        26\n",
      "    nlp_grad  | 529.00us (529.00us) 528.20us (528.20us)         1\n",
      "  nlp_grad_f  | 341.00us ( 12.63us) 221.14us (  8.19us)        27\n",
      "  nlp_hess_l  |  51.33ms (  2.05ms)  51.22ms (  2.05ms)        25\n",
      "   nlp_jac_g  |  32.47ms (  1.20ms)  32.39ms (  1.20ms)        27\n",
      "       total  | 140.41ms (140.41ms) 139.94ms (139.94ms)         1\n"
     ]
    }
   ],
   "source": [
    "opti.set_value(x0, [0, 0, 0])\n",
    "sol = opti.solve()\n",
    "\n",
    "x_traj = sol.value(X).T[:-1]\n",
    "u_traj = sol.value(U).T\n",
    "\n",
    "sol_traj = pd.DataFrame(np.hstack((x_traj, u_traj)), columns=['x', 'y', 'theta', 'v', 'omega'])"
   ]
  },
  {
   "cell_type": "code",
   "execution_count": 25,
   "metadata": {},
   "outputs": [
    {
     "data": {
      "text/plain": [
       "[<matplotlib.lines.Line2D at 0x7f0f167c1b10>]"
      ]
     },
     "execution_count": 25,
     "metadata": {},
     "output_type": "execute_result"
    },
    {
     "data": {
      "image/png": "[encoded data removed]",
      "text/plain": [
       "<Figure size 432x288 with 1 Axes>"
      ]
     },
     "metadata": {
      "needs_background": "light"
     },
     "output_type": "display_data"
    }
   ],
   "source": [
    "plt.plot(2*sol.value(e_x[0:-1])**2 + 2*sol.value(e_y[0:-1])**2 + 3000*sol.value(s)**2)"
   ]
  },
  {
   "cell_type": "code",
   "execution_count": 24,
   "metadata": {},
   "outputs": [
    {
     "data": {
      "image/png": "[encoded data removed]",
      "text/plain": [
       "<Figure size 576x576 with 1 Axes>"
      ]
     },
     "metadata": {
      "needs_background": "light"
     },
     "output_type": "display_data"
    }
   ],
   "source": [
    "fig, ax = plt.subplots(figsize=(8, 8))\n",
    "\n",
    "c = plt.Circle((0.5, 0.15), radius=0.2, alpha=0.5)\n",
    "\n",
    "ax.plot(0.8, 0.4, 'x', markersize=20)\n",
    "ax.plot(sol_traj[\"x\"], sol_traj[\"y\"])\n",
    "ax.add_patch(c)\n",
    "\n",
    "ax.set_xlim([-1, 1])\n",
    "ax.set_ylim([-1, 1])\n",
    "\n",
    "ax.grid()"
   ]
  },
  {
   "cell_type": "code",
   "execution_count": 753,
   "metadata": {},
   "outputs": [
    {
     "data": {
      "text/plain": [
       "<matplotlib.axes._subplots.AxesSubplot at 0x7fa767ae9c10>"
      ]
     },
     "execution_count": 753,
     "metadata": {},
     "output_type": "execute_result"
    },
    {
     "data": {
      "image/png": "[encoded data removed]",
      "text/plain": [
       "<Figure size 432x288 with 1 Axes>"
      ]
     },
     "metadata": {
      "needs_background": "light"
     },
     "output_type": "display_data"
    }
   ],
   "source": [
    "sol_traj[[\"x\", \"y\"]].plot()"
   ]
  },
  {
   "cell_type": "code",
   "execution_count": 797,
   "metadata": {},
   "outputs": [
    {
     "data": {
      "text/plain": [
       "[<matplotlib.lines.Line2D at 0x7fa7675287d0>]"
      ]
     },
     "execution_count": 797,
     "metadata": {},
     "output_type": "execute_result"
    },
    {
     "data": {
      "image/png": "[encoded data removed]",
      "text/plain": [
       "<Figure size 432x288 with 1 Axes>"
      ]
     },
     "metadata": {
      "needs_background": "light"
     },
     "output_type": "display_data"
    }
   ],
   "source": [
    "plt.plot(sol.value(d))"
   ]
  },
  {
   "cell_type": "code",
   "execution_count": 755,
   "metadata": {},
   "outputs": [
    {
     "data": {
      "text/plain": [
       "<matplotlib.axes._subplots.AxesSubplot at 0x7fa767a2ba90>"
      ]
     },
     "execution_count": 755,
     "metadata": {},
     "output_type": "execute_result"
    },
    {
     "data": {
      "image/png": "[encoded data removed]",
      "text/plain": [
       "<Figure size 432x288 with 1 Axes>"
      ]
     },
     "metadata": {
      "needs_background": "light"
     },
     "output_type": "display_data"
    }
   ],
   "source": [
    "sol_traj[\"omega\"].plot()"
   ]
  },
  {
   "cell_type": "markdown",
   "metadata": {},
   "source": [
    "# MPC"
   ]
  },
  {
   "cell_type": "code",
   "execution_count": 942,
   "metadata": {},
   "outputs": [],
   "source": [
    "OCP = opti.to_function(\"OCP\", [x0], [U[:,0]], [\"x0\"], [\"u\"])"
   ]
  },
  {
   "cell_type": "code",
   "execution_count": 617,
   "metadata": {},
   "outputs": [
    {
     "name": "stdout",
     "output_type": "stream",
     "text": [
      "      solver  :   t_proc      (avg)   t_wall      (avg)    n_eval\n",
      "       nlp_f  | 122.00us (  8.13us) 121.66us (  8.11us)        15\n",
      "       nlp_g  |   2.45ms (163.27us)   2.44ms (162.81us)        15\n",
      "    nlp_grad  | 530.00us (530.00us) 529.69us (529.69us)         1\n",
      "  nlp_grad_f  | 166.00us ( 10.38us) 165.35us ( 10.33us)        16\n",
      "  nlp_hess_l  |  32.05ms (  2.29ms)  32.01ms (  2.29ms)        14\n",
      "   nlp_jac_g  |  17.45ms (  1.09ms)  17.46ms (  1.09ms)        16\n",
      "       total  |  71.85ms ( 71.85ms)  71.76ms ( 71.76ms)         1\n"
     ]
    },
    {
     "data": {
      "text/plain": [
       "DM([0.5, 0.5])"
      ]
     },
     "execution_count": 617,
     "metadata": {},
     "output_type": "execute_result"
    }
   ],
   "source": [
    "OCP([0, 0, 0])"
   ]
  },
  {
   "cell_type": "code",
   "execution_count": 284,
   "metadata": {},
   "outputs": [
    {
     "name": "stdout",
     "output_type": "stream",
     "text": [
      "      solver  :   t_proc      (avg)   t_wall      (avg)    n_eval\n",
      "       nlp_f  | 520.00us (  6.05us) 529.77us (  6.16us)        86\n",
      "       nlp_g  |  13.36ms (155.38us)  13.35ms (155.23us)        86\n",
      "    nlp_grad  | 692.00us (692.00us) 691.87us (691.87us)         1\n",
      "  nlp_grad_f  | 853.00us (  9.80us) 855.40us (  9.83us)        87\n",
      "  nlp_hess_l  | 180.00ms (  2.12ms) 179.69ms (  2.11ms)        85\n",
      "   nlp_jac_g  |  93.08ms (  1.07ms)  93.05ms (  1.07ms)        87\n",
      "       total  | 423.91ms (423.91ms) 423.37ms (423.37ms)         1\n",
      "      solver  :   t_proc      (avg)   t_wall      (avg)    n_eval\n",
      "       nlp_f  | 169.00us (  5.83us) 174.22us (  6.01us)        29\n",
      "       nlp_g  |   4.41ms (151.93us)   4.40ms (151.79us)        29\n",
      "    nlp_grad  | 588.00us (588.00us) 587.73us (587.73us)         1\n",
      "  nlp_grad_f  | 255.00us (  9.44us) 257.83us (  9.55us)        27\n",
      "  nlp_hess_l  |  52.91ms (  2.12ms)  52.82ms (  2.11ms)        25\n",
      "   nlp_jac_g  |  28.71ms (  1.06ms)  28.66ms (  1.06ms)        27\n",
      "       total  | 118.78ms (118.78ms) 118.46ms (118.46ms)         1\n",
      "      solver  :   t_proc      (avg)   t_wall      (avg)    n_eval\n",
      "       nlp_f  | 482.00us (  5.36us) 493.16us (  5.48us)        90\n",
      "       nlp_g  |  13.30ms (147.78us)  13.27ms (147.41us)        90\n",
      "    nlp_grad  | 574.00us (574.00us) 574.09us (574.09us)         1\n",
      "  nlp_grad_f  | 773.00us (  8.69us) 776.95us (  8.73us)        89\n",
      "  nlp_hess_l  | 178.55ms (  2.05ms) 178.44ms (  2.05ms)        87\n",
      "   nlp_jac_g  |  91.22ms (  1.02ms)  91.17ms (  1.02ms)        89\n",
      "       total  | 416.86ms (416.86ms) 416.47ms (416.47ms)         1\n",
      "      solver  :   t_proc      (avg)   t_wall      (avg)    n_eval\n",
      "       nlp_f  | 589.00us (  5.95us) 569.32us (  5.75us)        99\n",
      "       nlp_g  |  14.95ms (151.00us)  14.93ms (150.82us)        99\n",
      "    nlp_grad  | 547.00us (547.00us) 546.99us (546.99us)         1\n",
      "  nlp_grad_f  | 862.00us (  8.62us) 867.08us (  8.67us)       100\n",
      "  nlp_hess_l  | 204.68ms (  2.09ms) 204.57ms (  2.09ms)        98\n",
      "   nlp_jac_g  | 104.60ms (  1.05ms) 104.56ms (  1.05ms)       100\n",
      "       total  | 479.31ms (479.31ms) 478.78ms (478.78ms)         1\n",
      "      solver  :   t_proc      (avg)   t_wall      (avg)    n_eval\n",
      "       nlp_f  | 576.00us (  6.00us) 585.38us (  6.10us)        96\n",
      "       nlp_g  |  14.55ms (151.56us)  14.53ms (151.30us)        96\n",
      "    nlp_grad  | 568.00us (568.00us) 567.26us (567.26us)         1\n",
      "  nlp_grad_f  | 884.00us (  9.11us) 885.28us (  9.13us)        97\n",
      "  nlp_hess_l  | 199.65ms (  2.10ms) 199.53ms (  2.10ms)        95\n",
      "   nlp_jac_g  | 102.31ms (  1.05ms) 102.22ms (  1.05ms)        97\n",
      "       total  | 468.82ms (468.82ms) 468.41ms (468.41ms)         1\n",
      "      solver  :   t_proc      (avg)   t_wall      (avg)    n_eval\n",
      "       nlp_f  | 275.00us (  5.50us) 277.07us (  5.54us)        50\n",
      "       nlp_g  |   7.48ms (149.70us)   7.49ms (149.70us)        50\n",
      "    nlp_grad  | 550.00us (550.00us) 545.80us (545.80us)         1\n",
      "  nlp_grad_f  | 456.00us (  8.94us) 457.35us (  8.97us)        51\n",
      "  nlp_hess_l  | 101.62ms (  2.07ms) 101.62ms (  2.07ms)        49\n",
      "   nlp_jac_g  |  52.86ms (  1.04ms)  52.81ms (  1.04ms)        51\n",
      "       total  | 233.11ms (233.11ms) 232.99ms (232.99ms)         1\n",
      "      solver  :   t_proc      (avg)   t_wall      (avg)    n_eval\n",
      "       nlp_f  | 297.00us (  5.60us) 307.89us (  5.81us)        53\n",
      "       nlp_g  |   7.89ms (148.94us)   7.88ms (148.71us)        53\n",
      "    nlp_grad  | 554.00us (554.00us) 553.85us (553.85us)         1\n",
      "  nlp_grad_f  | 481.00us (  8.91us) 480.65us (  8.90us)        54\n",
      "  nlp_hess_l  | 107.10ms (  2.06ms) 107.04ms (  2.06ms)        52\n",
      "   nlp_jac_g  |  55.51ms (  1.03ms)  55.54ms (  1.03ms)        54\n",
      "       total  | 245.69ms (245.69ms) 245.62ms (245.62ms)         1\n",
      "      solver  :   t_proc      (avg)   t_wall      (avg)    n_eval\n",
      "       nlp_f  | 502.00us (  6.05us) 499.30us (  6.02us)        83\n",
      "       nlp_g  |  13.07ms (157.51us)  13.04ms (157.13us)        83\n",
      "    nlp_grad  | 575.00us (575.00us) 575.25us (575.25us)         1\n",
      "  nlp_grad_f  | 766.00us (  9.46us) 759.99us (  9.38us)        81\n",
      "  nlp_hess_l  | 170.60ms (  2.16ms) 170.38ms (  2.16ms)        79\n",
      "   nlp_jac_g  |  85.79ms (  1.06ms)  85.68ms (  1.06ms)        81\n",
      "       total  | 395.92ms (395.92ms) 395.31ms (395.31ms)         1\n",
      "      solver  :   t_proc      (avg)   t_wall      (avg)    n_eval\n",
      "       nlp_f  | 600.00us (  8.00us) 597.04us (  7.96us)        75\n",
      "       nlp_g  |  13.54ms (180.47us)  13.53ms (180.35us)        75\n",
      "    nlp_grad  | 557.00us (557.00us) 556.97us (556.97us)         1\n",
      "  nlp_grad_f  | 875.00us ( 11.82us) 880.65us ( 11.90us)        74\n",
      "  nlp_hess_l  | 156.05ms (  2.17ms) 155.94ms (  2.17ms)        72\n",
      "   nlp_jac_g  |  84.03ms (  1.14ms)  83.93ms (  1.13ms)        74\n",
      "       total  | 377.91ms (377.91ms) 377.27ms (377.27ms)         1\n",
      "      solver  :   t_proc      (avg)   t_wall      (avg)    n_eval\n",
      "       nlp_f  | 566.00us (  5.44us) 570.27us (  5.48us)       104\n",
      "       nlp_g  |  15.25ms (146.66us)  15.23ms (146.46us)       104\n",
      "    nlp_grad  | 563.00us (563.00us) 558.70us (558.70us)         1\n",
      "  nlp_grad_f  | 926.00us (  8.82us) 900.78us (  8.58us)       105\n",
      "  nlp_hess_l  | 211.33ms (  2.05ms) 211.18ms (  2.05ms)       103\n",
      "   nlp_jac_g  | 107.28ms (  1.02ms) 107.23ms (  1.02ms)       105\n",
      "       total  | 493.96ms (493.96ms) 493.50ms (493.50ms)         1\n",
      "      solver  :   t_proc      (avg)   t_wall      (avg)    n_eval\n",
      "       nlp_f  | 388.00us (  5.71us) 386.84us (  5.69us)        68\n",
      "       nlp_g  |  10.20ms (149.94us)  10.17ms (149.60us)        68\n",
      "    nlp_grad  | 535.00us (535.00us) 534.88us (534.88us)         1\n",
      "  nlp_grad_f  | 621.00us (  9.00us) 608.24us (  8.82us)        69\n",
      "  nlp_hess_l  | 138.81ms (  2.07ms) 138.61ms (  2.07ms)        67\n",
      "   nlp_jac_g  |  71.67ms (  1.04ms)  71.60ms (  1.04ms)        69\n",
      "       total  | 323.41ms (323.41ms) 322.91ms (322.91ms)         1\n",
      "      solver  :   t_proc      (avg)   t_wall      (avg)    n_eval\n",
      "       nlp_f  | 502.00us (  5.23us) 508.75us (  5.30us)        96\n",
      "       nlp_g  |  13.95ms (145.31us)  13.94ms (145.25us)        96\n",
      "    nlp_grad  | 551.00us (551.00us) 550.40us (550.40us)         1\n",
      "  nlp_grad_f  | 819.00us (  8.44us) 817.52us (  8.43us)        97\n",
      "  nlp_hess_l  | 194.35ms (  2.05ms) 194.21ms (  2.04ms)        95\n",
      "   nlp_jac_g  |  98.73ms (  1.02ms)  98.69ms (  1.02ms)        97\n",
      "       total  | 454.10ms (454.10ms) 453.70ms (453.70ms)         1\n",
      "      solver  :   t_proc      (avg)   t_wall      (avg)    n_eval\n",
      "       nlp_f  | 445.00us (  6.45us) 445.93us (  6.46us)        69\n",
      "       nlp_g  |  10.67ms (154.71us)  10.66ms (154.45us)        69\n",
      "    nlp_grad  | 563.00us (563.00us) 563.50us (563.50us)         1\n",
      "  nlp_grad_f  | 649.00us (  9.27us) 643.35us (  9.19us)        70\n",
      "  nlp_hess_l  | 145.99ms (  2.15ms) 145.87ms (  2.15ms)        68\n",
      "   nlp_jac_g  |  75.18ms (  1.07ms)  75.17ms (  1.07ms)        70\n",
      "       total  | 339.09ms (339.09ms) 338.72ms (338.72ms)         1\n",
      "      solver  :   t_proc      (avg)   t_wall      (avg)    n_eval\n",
      "       nlp_f  | 496.00us (  7.52us) 494.76us (  7.50us)        66\n",
      "       nlp_g  |  11.35ms (171.89us)  11.30ms (171.21us)        66\n",
      "    nlp_grad  | 557.00us (557.00us) 557.43us (557.43us)         1\n",
      "  nlp_grad_f  | 739.00us ( 11.03us) 733.26us ( 10.94us)        67\n",
      "  nlp_hess_l  | 146.21ms (  2.25ms) 146.03ms (  2.25ms)        65\n",
      "   nlp_jac_g  |  77.18ms (  1.15ms)  77.14ms (  1.15ms)        67\n",
      "       total  | 346.81ms (346.81ms) 346.21ms (346.21ms)         1\n",
      "      solver  :   t_proc      (avg)   t_wall      (avg)    n_eval\n",
      "       nlp_f  | 341.00us (  5.33us) 347.28us (  5.43us)        64\n",
      "       nlp_g  |   9.38ms (146.52us)   9.37ms (146.39us)        64\n",
      "    nlp_grad  | 533.00us (533.00us) 533.24us (533.24us)         1\n",
      "  nlp_grad_f  | 554.00us (  8.52us) 553.53us (  8.52us)        65\n",
      "  nlp_hess_l  | 129.05ms (  2.05ms) 128.95ms (  2.05ms)        63\n",
      "   nlp_jac_g  |  66.49ms (  1.02ms)  66.46ms (  1.02ms)        65\n",
      "       total  | 299.63ms (299.63ms) 299.34ms (299.34ms)         1\n",
      "      solver  :   t_proc      (avg)   t_wall      (avg)    n_eval\n",
      "       nlp_f  | 366.00us (  6.10us) 369.32us (  6.16us)        60\n",
      "       nlp_g  |   9.53ms (158.83us)   9.52ms (158.62us)        60\n",
      "    nlp_grad  | 567.00us (567.00us) 567.09us (567.09us)         1\n",
      "  nlp_grad_f  | 579.00us (  9.49us) 581.99us (  9.54us)        61\n",
      "  nlp_hess_l  | 126.87ms (  2.15ms) 126.71ms (  2.15ms)        59\n",
      "   nlp_jac_g  |  66.96ms (  1.10ms)  66.94ms (  1.10ms)        61\n",
      "       total  | 298.03ms (298.03ms) 297.72ms (297.72ms)         1\n",
      "      solver  :   t_proc      (avg)   t_wall      (avg)    n_eval\n",
      "       nlp_f  | 371.00us (  5.89us) 368.09us (  5.84us)        63\n",
      "       nlp_g  |   9.53ms (151.19us)   9.51ms (151.00us)        63\n"
     ]
    },
    {
     "name": "stdout",
     "output_type": "stream",
     "text": [
      "    nlp_grad  | 563.00us (563.00us) 563.27us (563.27us)         1\n",
      "  nlp_grad_f  | 585.00us (  9.14us) 583.56us (  9.12us)        64\n",
      "  nlp_hess_l  | 130.07ms (  2.10ms) 130.01ms (  2.10ms)        62\n",
      "   nlp_jac_g  |  67.39ms (  1.05ms)  67.39ms (  1.05ms)        64\n",
      "       total  | 302.88ms (302.88ms) 302.62ms (302.62ms)         1\n",
      "      solver  :   t_proc      (avg)   t_wall      (avg)    n_eval\n",
      "       nlp_f  | 278.00us (  5.45us) 278.24us (  5.46us)        51\n",
      "       nlp_g  |   7.55ms (148.10us)   7.55ms (148.02us)        51\n",
      "    nlp_grad  | 550.00us (550.00us) 549.80us (549.80us)         1\n",
      "  nlp_grad_f  | 442.00us (  8.50us) 447.03us (  8.60us)        52\n",
      "  nlp_hess_l  | 103.23ms (  2.06ms) 103.10ms (  2.06ms)        50\n",
      "   nlp_jac_g  |  53.73ms (  1.03ms)  53.67ms (  1.03ms)        52\n",
      "       total  | 237.81ms (237.81ms) 237.47ms (237.47ms)         1\n",
      "      solver  :   t_proc      (avg)   t_wall      (avg)    n_eval\n",
      "       nlp_f  | 261.00us (  5.55us) 260.25us (  5.54us)        47\n",
      "       nlp_g  |   7.02ms (149.40us)   7.02ms (149.38us)        47\n",
      "    nlp_grad  | 554.00us (554.00us) 553.07us (553.07us)         1\n",
      "  nlp_grad_f  | 406.00us (  8.46us) 408.33us (  8.51us)        48\n",
      "  nlp_hess_l  |  95.47ms (  2.08ms)  95.40ms (  2.07ms)        46\n",
      "   nlp_jac_g  |  49.50ms (  1.03ms)  49.46ms (  1.03ms)        48\n",
      "       total  | 219.28ms (219.28ms) 219.07ms (219.07ms)         1\n",
      "      solver  :   t_proc      (avg)   t_wall      (avg)    n_eval\n",
      "       nlp_f  | 206.00us (  5.42us) 206.08us (  5.42us)        38\n",
      "       nlp_g  |   5.57ms (146.58us)   5.57ms (146.55us)        38\n",
      "    nlp_grad  | 569.00us (569.00us) 564.36us (564.36us)         1\n",
      "  nlp_grad_f  | 342.00us (  8.77us) 342.93us (  8.79us)        39\n",
      "  nlp_hess_l  |  75.70ms (  2.05ms)  75.63ms (  2.04ms)        37\n",
      "   nlp_jac_g  |  39.77ms (  1.02ms)  39.75ms (  1.02ms)        39\n",
      "       total  | 172.59ms (172.59ms) 172.41ms (172.41ms)         1\n",
      "      solver  :   t_proc      (avg)   t_wall      (avg)    n_eval\n",
      "       nlp_f  | 332.00us (  7.55us) 339.09us (  7.71us)        44\n",
      "       nlp_g  |   7.78ms (176.82us)   7.78ms (176.87us)        44\n",
      "    nlp_grad  | 871.00us (871.00us) 872.54us (872.54us)         1\n",
      "  nlp_grad_f  | 476.00us ( 11.07us) 479.42us ( 11.15us)        43\n",
      "  nlp_hess_l  |  96.14ms (  2.34ms)  96.07ms (  2.34ms)        41\n",
      "   nlp_jac_g  |  51.10ms (  1.19ms)  51.12ms (  1.19ms)        43\n",
      "       total  | 222.47ms (222.47ms) 222.08ms (222.08ms)         1\n",
      "      solver  :   t_proc      (avg)   t_wall      (avg)    n_eval\n",
      "       nlp_f  | 412.00us (  8.58us) 414.41us (  8.63us)        48\n",
      "       nlp_g  |   9.28ms (193.35us)   9.27ms (193.08us)        48\n",
      "    nlp_grad  | 564.00us (564.00us) 565.03us (565.03us)         1\n",
      "  nlp_grad_f  | 540.00us ( 11.49us) 546.20us ( 11.62us)        47\n",
      "  nlp_hess_l  | 101.11ms (  2.25ms) 100.99ms (  2.24ms)        45\n",
      "   nlp_jac_g  |  55.17ms (  1.17ms)  55.14ms (  1.17ms)        47\n",
      "       total  | 245.62ms (245.62ms) 245.26ms (245.26ms)         1\n",
      "      solver  :   t_proc      (avg)   t_wall      (avg)    n_eval\n",
      "       nlp_f  | 279.00us (  5.47us) 284.45us (  5.58us)        51\n",
      "       nlp_g  |   7.64ms (149.73us)   7.63ms (149.67us)        51\n",
      "    nlp_grad  | 530.00us (530.00us) 529.35us (529.35us)         1\n",
      "  nlp_grad_f  | 463.00us (  9.26us) 458.14us (  9.16us)        50\n",
      "  nlp_hess_l  |  99.81ms (  2.08ms)  99.71ms (  2.08ms)        48\n",
      "   nlp_jac_g  |  52.64ms (  1.05ms)  52.55ms (  1.05ms)        50\n",
      "       total  | 231.98ms (231.98ms) 231.63ms (231.63ms)         1\n",
      "      solver  :   t_proc      (avg)   t_wall      (avg)    n_eval\n",
      "       nlp_f  | 306.00us (  6.24us) 291.03us (  5.94us)        49\n",
      "       nlp_g  |   7.47ms (152.47us)   7.45ms (151.99us)        49\n",
      "    nlp_grad  | 567.00us (567.00us) 566.75us (566.75us)         1\n",
      "  nlp_grad_f  | 467.00us (  9.34us) 469.97us (  9.40us)        50\n",
      "  nlp_hess_l  | 103.21ms (  2.15ms) 102.99ms (  2.15ms)        48\n",
      "   nlp_jac_g  |  52.74ms (  1.05ms)  52.64ms (  1.05ms)        50\n",
      "       total  | 237.03ms (237.03ms) 236.47ms (236.47ms)         1\n",
      "      solver  :   t_proc      (avg)   t_wall      (avg)    n_eval\n",
      "       nlp_f  | 280.00us (  5.71us) 280.15us (  5.72us)        49\n",
      "       nlp_g  |   7.45ms (152.04us)   7.44ms (151.90us)        49\n",
      "    nlp_grad  | 563.00us (563.00us) 562.48us (562.48us)         1\n",
      "  nlp_grad_f  | 442.00us (  8.84us) 444.35us (  8.89us)        50\n",
      "  nlp_hess_l  |  99.92ms (  2.08ms)  99.78ms (  2.08ms)        48\n",
      "   nlp_jac_g  |  52.50ms (  1.05ms)  52.47ms (  1.05ms)        50\n",
      "       total  | 230.90ms (230.90ms) 230.62ms (230.62ms)         1\n",
      "      solver  :   t_proc      (avg)   t_wall      (avg)    n_eval\n",
      "       nlp_f  | 291.00us (  5.49us) 295.95us (  5.58us)        53\n",
      "       nlp_g  |   7.94ms (149.77us)   7.93ms (149.62us)        53\n",
      "    nlp_grad  | 569.00us (569.00us) 569.08us (569.08us)         1\n",
      "  nlp_grad_f  | 469.00us (  8.69us) 469.30us (  8.69us)        54\n",
      "  nlp_hess_l  | 107.78ms (  2.07ms) 107.72ms (  2.07ms)        52\n",
      "   nlp_jac_g  |  56.08ms (  1.04ms)  56.08ms (  1.04ms)        54\n",
      "       total  | 247.29ms (247.29ms) 247.10ms (247.10ms)         1\n",
      "      solver  :   t_proc      (avg)   t_wall      (avg)    n_eval\n",
      "       nlp_f  | 284.00us (  5.68us) 285.46us (  5.71us)        50\n",
      "       nlp_g  |   7.37ms (147.48us)   7.37ms (147.39us)        50\n",
      "    nlp_grad  | 556.00us (556.00us) 555.50us (555.50us)         1\n",
      "  nlp_grad_f  | 447.00us (  8.76us) 448.40us (  8.79us)        51\n",
      "  nlp_hess_l  | 100.36ms (  2.05ms) 100.37ms (  2.05ms)        49\n",
      "   nlp_jac_g  |  52.61ms (  1.03ms)  52.61ms (  1.03ms)        51\n",
      "       total  | 230.28ms (230.28ms) 230.24ms (230.24ms)         1\n",
      "      solver  :   t_proc      (avg)   t_wall      (avg)    n_eval\n",
      "       nlp_f  | 278.00us (  5.45us) 277.54us (  5.44us)        51\n",
      "       nlp_g  |   7.47ms (146.57us)   7.48ms (146.64us)        51\n",
      "    nlp_grad  | 560.00us (560.00us) 555.69us (555.69us)         1\n",
      "  nlp_grad_f  | 450.00us (  8.65us) 452.31us (  8.70us)        52\n",
      "  nlp_hess_l  | 102.22ms (  2.04ms) 102.14ms (  2.04ms)        50\n",
      "   nlp_jac_g  |  53.15ms (  1.02ms)  53.14ms (  1.02ms)        52\n",
      "       total  | 234.09ms (234.09ms) 233.88ms (233.88ms)         1\n",
      "      solver  :   t_proc      (avg)   t_wall      (avg)    n_eval\n",
      "       nlp_f  | 278.00us (  5.35us) 283.86us (  5.46us)        52\n",
      "       nlp_g  |   7.65ms (147.15us)   7.64ms (147.00us)        52\n",
      "    nlp_grad  | 554.00us (554.00us) 554.04us (554.04us)         1\n",
      "  nlp_grad_f  | 445.00us (  8.40us) 448.34us (  8.46us)        53\n",
      "  nlp_hess_l  | 106.05ms (  2.08ms) 105.84ms (  2.08ms)        51\n",
      "   nlp_jac_g  |  54.33ms (  1.03ms)  54.25ms (  1.02ms)        53\n",
      "       total  | 240.34ms (240.34ms) 239.84ms (239.84ms)         1\n",
      "      solver  :   t_proc      (avg)   t_wall      (avg)    n_eval\n",
      "       nlp_f  | 294.00us (  5.65us) 293.39us (  5.64us)        52\n",
      "       nlp_g  |   7.67ms (147.56us)   7.67ms (147.52us)        52\n",
      "    nlp_grad  | 556.00us (556.00us) 556.19us (556.19us)         1\n",
      "  nlp_grad_f  | 443.00us (  8.36us) 448.21us (  8.46us)        53\n",
      "  nlp_hess_l  | 104.28ms (  2.04ms) 104.19ms (  2.04ms)        51\n",
      "   nlp_jac_g  |  54.29ms (  1.02ms)  54.28ms (  1.02ms)        53\n",
      "       total  | 236.68ms (236.68ms) 236.45ms (236.45ms)         1\n",
      "      solver  :   t_proc      (avg)   t_wall      (avg)    n_eval\n",
      "       nlp_f  | 274.00us (  5.27us) 279.71us (  5.38us)        52\n",
      "       nlp_g  |   7.62ms (146.56us)   7.61ms (146.36us)        52\n",
      "    nlp_grad  | 561.00us (561.00us) 561.72us (561.72us)         1\n",
      "  nlp_grad_f  | 446.00us (  8.42us) 447.13us (  8.44us)        53\n",
      "  nlp_hess_l  | 104.44ms (  2.05ms) 104.38ms (  2.05ms)        51\n",
      "   nlp_jac_g  |  54.25ms (  1.02ms)  54.23ms (  1.02ms)        53\n",
      "       total  | 236.85ms (236.85ms) 236.64ms (236.64ms)         1\n",
      "      solver  :   t_proc      (avg)   t_wall      (avg)    n_eval\n",
      "       nlp_f  | 276.00us (  5.41us) 276.71us (  5.43us)        51\n",
      "       nlp_g  |   7.56ms (148.24us)   7.54ms (147.93us)        51\n",
      "    nlp_grad  | 536.00us (536.00us) 536.37us (536.37us)         1\n",
      "  nlp_grad_f  | 437.00us (  8.40us) 438.72us (  8.44us)        52\n",
      "  nlp_hess_l  | 102.52ms (  2.05ms) 102.44ms (  2.05ms)        50\n",
      "   nlp_jac_g  |  53.51ms (  1.03ms)  53.47ms (  1.03ms)        52\n",
      "       total  | 233.75ms (233.75ms) 233.52ms (233.52ms)         1\n"
     ]
    },
    {
     "name": "stdout",
     "output_type": "stream",
     "text": [
      "      solver  :   t_proc      (avg)   t_wall      (avg)    n_eval\n",
      "       nlp_f  | 318.00us (  6.12us) 320.03us (  6.15us)        52\n",
      "       nlp_g  |   8.10ms (155.85us)   8.09ms (155.57us)        52\n",
      "    nlp_grad  | 582.00us (582.00us) 581.99us (581.99us)         1\n",
      "  nlp_grad_f  | 496.00us (  9.36us) 494.35us (  9.33us)        53\n",
      "  nlp_hess_l  | 107.84ms (  2.11ms) 107.80ms (  2.11ms)        51\n",
      "   nlp_jac_g  |  56.91ms (  1.07ms)  56.88ms (  1.07ms)        53\n",
      "       total  | 245.91ms (245.91ms) 245.66ms (245.66ms)         1\n",
      "      solver  :   t_proc      (avg)   t_wall      (avg)    n_eval\n",
      "       nlp_f  | 291.00us (  5.71us) 292.78us (  5.74us)        51\n",
      "       nlp_g  |   7.74ms (151.75us)   7.73ms (151.56us)        51\n",
      "    nlp_grad  | 540.00us (540.00us) 539.55us (539.55us)         1\n",
      "  nlp_grad_f  | 450.00us (  8.65us) 451.62us (  8.69us)        52\n",
      "  nlp_hess_l  | 104.13ms (  2.08ms) 103.92ms (  2.08ms)        50\n",
      "   nlp_jac_g  |  54.31ms (  1.04ms)  54.24ms (  1.04ms)        52\n",
      "       total  | 236.11ms (236.11ms) 235.61ms (235.61ms)         1\n",
      "      solver  :   t_proc      (avg)   t_wall      (avg)    n_eval\n",
      "       nlp_f  | 261.00us (  5.33us) 262.40us (  5.36us)        49\n",
      "       nlp_g  |   7.18ms (146.47us)   7.17ms (146.40us)        49\n",
      "    nlp_grad  | 568.00us (568.00us) 568.17us (568.17us)         1\n",
      "  nlp_grad_f  | 417.00us (  8.34us) 418.84us (  8.38us)        50\n",
      "  nlp_hess_l  |  98.35ms (  2.05ms)  98.28ms (  2.05ms)        48\n",
      "   nlp_jac_g  |  51.22ms (  1.02ms)  51.20ms (  1.02ms)        50\n",
      "       total  | 223.10ms (223.10ms) 222.89ms (222.89ms)         1\n",
      "      solver  :   t_proc      (avg)   t_wall      (avg)    n_eval\n",
      "       nlp_f  | 262.00us (  5.24us) 265.03us (  5.30us)        50\n",
      "       nlp_g  |   7.36ms (147.12us)   7.35ms (147.06us)        50\n",
      "    nlp_grad  | 589.00us (589.00us) 588.38us (588.38us)         1\n",
      "  nlp_grad_f  | 418.00us (  8.20us) 423.66us (  8.31us)        51\n",
      "  nlp_hess_l  | 100.27ms (  2.05ms) 100.18ms (  2.04ms)        49\n",
      "   nlp_jac_g  |  52.06ms (  1.02ms)  52.04ms (  1.02ms)        51\n",
      "       total  | 226.93ms (226.93ms) 226.73ms (226.73ms)         1\n",
      "      solver  :   t_proc      (avg)   t_wall      (avg)    n_eval\n",
      "       nlp_f  | 267.00us (  5.24us) 276.46us (  5.42us)        51\n",
      "       nlp_g  |   7.48ms (146.67us)   7.47ms (146.42us)        51\n",
      "    nlp_grad  | 538.00us (538.00us) 538.30us (538.30us)         1\n",
      "  nlp_grad_f  | 441.00us (  8.48us) 445.82us (  8.57us)        52\n",
      "  nlp_hess_l  | 102.64ms (  2.05ms) 102.52ms (  2.05ms)        50\n",
      "   nlp_jac_g  |  53.15ms (  1.02ms)  53.14ms (  1.02ms)        52\n",
      "       total  | 230.81ms (230.81ms) 230.58ms (230.58ms)         1\n",
      "      solver  :   t_proc      (avg)   t_wall      (avg)    n_eval\n",
      "       nlp_f  | 219.00us (  5.62us) 220.51us (  5.65us)        39\n",
      "       nlp_g  |   5.92ms (151.82us)   5.91ms (151.65us)        39\n",
      "    nlp_grad  | 567.00us (567.00us) 561.93us (561.93us)         1\n",
      "  nlp_grad_f  | 353.00us (  8.82us) 350.88us (  8.77us)        40\n",
      "  nlp_hess_l  |  79.22ms (  2.08ms)  79.13ms (  2.08ms)        38\n",
      "   nlp_jac_g  |  41.79ms (  1.04ms)  41.79ms (  1.04ms)        40\n",
      "       total  | 177.61ms (177.61ms) 177.41ms (177.41ms)         1\n",
      "      solver  :   t_proc      (avg)   t_wall      (avg)    n_eval\n",
      "       nlp_f  | 370.00us (  7.25us) 374.21us (  7.34us)        51\n",
      "       nlp_g  |   8.85ms (173.45us)   8.81ms (172.81us)        51\n",
      "    nlp_grad  | 581.00us (581.00us) 581.24us (581.24us)         1\n",
      "  nlp_grad_f  | 578.00us ( 11.12us) 576.70us ( 11.09us)        52\n",
      "  nlp_hess_l  | 117.38ms (  2.35ms) 117.17ms (  2.34ms)        50\n",
      "   nlp_jac_g  |  62.14ms (  1.20ms)  62.10ms (  1.19ms)        52\n",
      "       total  | 265.32ms (265.32ms) 264.77ms (264.77ms)         1\n"
     ]
    }
   ],
   "source": [
    "N_sim = 40\n",
    "x_traj = np.zeros((N_sim, x.size))\n",
    "u_traj = np.zeros((N_sim, u.size))\n",
    "\n",
    "x_traj[0,:] = [0, 0, 0]\n",
    "for i in range(1, N_sim):\n",
    "    u_traj[i, :] = OCP(x_traj[i-1, :]).T\n",
    "    \n",
    "    # Simulate one sample\n",
    "    x_traj[i, :] = F_RK4(x_traj[i-1,:], u_traj[i,:], 0.1).toarray().flatten()"
   ]
  },
  {
   "cell_type": "code",
   "execution_count": null,
   "metadata": {},
   "outputs": [],
   "source": [
    "plt.spy(sol.value(ca.hessian(opti.f,opti.x)[0]))"
   ]
  },
  {
   "cell_type": "code",
   "execution_count": 285,
   "metadata": {},
   "outputs": [],
   "source": [
    "sim_res = pd.DataFrame(np.hstack((x_traj, u_traj)), columns=['x', 'y', 'theta', 'v', 'omega'])"
   ]
  },
  {
   "cell_type": "code",
   "execution_count": 286,
   "metadata": {},
   "outputs": [
    {
     "data": {
      "text/plain": [
       "[<matplotlib.lines.Line2D at 0x7fa76b82a9d0>]"
      ]
     },
     "execution_count": 286,
     "metadata": {},
     "output_type": "execute_result"
    },
    {
     "data": {
      "image/png": "[encoded data removed]",
      "text/plain": [
       "<Figure size 432x288 with 1 Axes>"
      ]
     },
     "metadata": {
      "needs_background": "light"
     },
     "output_type": "display_data"
    }
   ],
   "source": [
    "plt.plot(sim_res[\"x\"], sim_res[\"y\"])"
   ]
  },
  {
   "cell_type": "code",
   "execution_count": null,
   "metadata": {},
   "outputs": [],
   "source": [
    "sim_res[['omega']].plot()"
   ]
  },
  {
   "cell_type": "markdown",
   "metadata": {},
   "source": [
    "# Extras"
   ]
  },
  {
   "cell_type": "code",
   "execution_count": 943,
   "metadata": {},
   "outputs": [],
   "source": [
    "OCP.save(\"ocp.casadi\")"
   ]
  },
  {
   "cell_type": "code",
   "execution_count": 620,
   "metadata": {},
   "outputs": [],
   "source": [
    "OCP_loaded = ca.Function.load(\"ocp.casadi\")"
   ]
  },
  {
   "cell_type": "code",
   "execution_count": 621,
   "metadata": {},
   "outputs": [
    {
     "data": {
      "text/plain": [
       "Function(OCP:(x0[3])->(u[2]) MXFunction)"
      ]
     },
     "execution_count": 621,
     "metadata": {},
     "output_type": "execute_result"
    }
   ],
   "source": [
    "OCP_loaded"
   ]
  },
  {
   "cell_type": "code",
   "execution_count": null,
   "metadata": {},
   "outputs": [],
   "source": [
    "OCP.generate(\"ocp_codegen\", {\"main\": True})"
   ]
  }
 ],
 "metadata": {
  "kernelspec": {
   "display_name": "Python 3",
   "language": "python",
   "name": "python3"
  },
  "language_info": {
   "codemirror_mode": {
    "name": "ipython",
    "version": 3
   },
   "file_extension": ".py",
   "mimetype": "text/x-python",
   "name": "python",
   "nbconvert_exporter": "python",
   "pygments_lexer": "ipython3",
   "version": "3.7.1"
  }
 },
 "nbformat": 4,
 "nbformat_minor": 2
}
